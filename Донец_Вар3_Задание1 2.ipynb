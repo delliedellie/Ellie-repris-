{
  "cells": [
    {
      "cell_type": "code",
      "execution_count": 10,
      "metadata": {
        "colab": {
          "base_uri": "https://localhost:8080/"
        },
        "id": "3zZ803_4M3P4",
        "outputId": "e14d6cda-7c94-43da-e654-c4d972f49820"
      },
      "outputs": [
        {
          "output_type": "stream",
          "name": "stdout",
          "text": [
            "Всем досталось? да/нет   нет\n",
            "Даем дольку другу\n",
            "Осталось долек:  11\n",
            "Всем досталось? да/нет  нет\n",
            "Даем дольку другу\n",
            "Осталось долек:  10\n",
            "Всем досталось? да/нет  нет\n",
            "Даем дольку другу\n",
            "Осталось долек:  9\n",
            "Всем досталось? да/нет  нет\n",
            "Даем дольку другу\n",
            "Осталось долек:  8\n",
            "Всем досталось? да/нет  нет\n",
            "Даем дольку другу\n",
            "Осталось долек:  7\n",
            "Всем досталось? да/нет  нет\n",
            "Даем дольку другу\n",
            "Осталось долек:  6\n",
            "Всем досталось? да/нет  нет\n",
            "Даем дольку другу\n",
            "Осталось долек:  5\n",
            "Всем досталось? да/нет  нет\n",
            "Даем дольку другу\n",
            "Осталось долек:  4\n",
            "Всем досталось? да/нет  нет\n",
            "Даем дольку другу\n",
            "Осталось долек:  3\n",
            "Всем досталось? да/нет  нет\n",
            "Даем дольку другу\n",
            "Осталось долек:  2\n",
            "Всем досталось? да/нет  нет\n",
            "Даем дольку другу\n",
            "Осталось долек:  1\n",
            "Всем досталось? да/нет  нет\n",
            "Даем дольку другу\n",
            "Осталось долек:  0\n",
            "Всем досталось? да/нет  нет\n",
            "Как жаль!\n"
          ]
        }
      ],
      "source": [
        "\n",
        "n = 12\n",
        "mandarin = input('Всем досталось? да/нет   ')\n",
        "\n",
        "while mandarin != 'да' and n>0:\n",
        "      if mandarin == \"нет\":\n",
        "         print('Даем дольку другу')\n",
        "         print('Осталось долек:  '+ str(n-1))\n",
        "         n=n-1\n",
        "      mandarin = input('Всем досталось? да/нет  ')\n",
        "      if mandarin == 'нет' and n == 0 : \n",
        "         print('Как жаль!') \n",
        "      elif mandarin == 'да' and n == 0: \n",
        "         print('Ура, друзьям хватило. А мне мандарина и не хотелось') \n",
        "      elif mandarin == 'да' and n > 0: \n",
        "         print('Осталось долек: ' + str(n)) \n",
        "         print('Ура! И мне хватило')\n",
        "\n",
        "      \n",
        "         \n",
        "      \n",
        "            \n",
        "          \n",
        "               \n",
        "         \n",
        "\n"
      ]
    },
    {
      "cell_type": "markdown",
      "metadata": {
        "id": "SOTo6ApoQ6eH"
      },
      "source": [
        "# Новый раздел"
      ]
    },
    {
      "cell_type": "code",
      "execution_count": null,
      "metadata": {
        "id": "XzKP9R0_Q77o"
      },
      "outputs": [],
      "source": [
        "#Фамилия Донец  \n",
        "#Имя Эллина\n",
        "#Группы 213 \n",
        "#Вариант 3\n",
        "n_chapters_maybe = int(input('Планирую написать глав…  '))\n",
        "n_parts = int(input(\"Количество основных частей в каждой главе:   \"))\n",
        "desire = input('Буду писать? да/нет  ')\n",
        "while desire != 'нет':\n",
        "      print('Пишу главу…')\n",
        "      part = int(input('Часть '))\n",
        "      while part != n_parts:\n",
        "            part = int(input('Часть'))\n",
        "      desire = input('Глава закончена! Количество глав уже:  ')\n",
        "      itog = int(desire)\n",
        "      desire = input('Буду писать? да/нет ')\n",
        "      if n_chapters_maybe == itog and desire != 'нет':\n",
        "            print('Надо бы отдохнуть… Вышло ' + str(itog))\n",
        "      elif n_chapters_maybe <= itog:\n",
        "            print('Хорошая работа! Вышло ' + str(itog))\n",
        "\n",
        "      \n",
        "     "
      ]
    },
    {
      "cell_type": "code",
      "execution_count": null,
      "metadata": {
        "id": "P4PgNzd14TNw"
      },
      "outputs": [],
      "source": []
    }
  ],
  "metadata": {
    "colab": {
      "provenance": []
    },
    "kernelspec": {
      "display_name": "Python 3",
      "name": "python3"
    },
    "language_info": {
      "name": "python"
    }
  },
  "nbformat": 4,
  "nbformat_minor": 0
}